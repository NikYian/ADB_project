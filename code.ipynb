{
 "cells": [
  {
   "cell_type": "code",
   "execution_count": 30,
   "metadata": {},
   "outputs": [],
   "source": [
    "spark.stop()"
   ]
  },
  {
   "cell_type": "code",
   "execution_count": 33,
   "metadata": {},
   "outputs": [
    {
     "data": {
      "text/html": [
       "\n",
       "            <div>\n",
       "                <p><b>SparkSession - in-memory</b></p>\n",
       "                \n",
       "        <div>\n",
       "            <p><b>SparkContext</b></p>\n",
       "\n",
       "            <p><a href=\"http://okeanos-master:4040\">Spark UI</a></p>\n",
       "\n",
       "            <dl>\n",
       "              <dt>Version</dt>\n",
       "                <dd><code>v3.5.0</code></dd>\n",
       "              <dt>Master</dt>\n",
       "                <dd><code>yarn</code></dd>\n",
       "              <dt>AppName</dt>\n",
       "                <dd><code>test</code></dd>\n",
       "            </dl>\n",
       "        </div>\n",
       "        \n",
       "            </div>\n",
       "        "
      ],
      "text/plain": [
       "<pyspark.sql.session.SparkSession at 0x7f7dd9ccdf30>"
      ]
     },
     "execution_count": 33,
     "metadata": {},
     "output_type": "execute_result"
    }
   ],
   "source": [
    "\n",
    "import pyspark\n",
    "from pyspark.sql import SparkSession\n",
    "\n",
    "spark = SparkSession.builder.appName('test').getOrCreate()\n",
    "spark\n"
   ]
  },
  {
   "cell_type": "code",
   "execution_count": 54,
   "metadata": {},
   "outputs": [
    {
     "name": "stderr",
     "output_type": "stream",
     "text": [
      "[Stage 32:==============================================>           (4 + 1) / 5]\r"
     ]
    },
    {
     "name": "stdout",
     "output_type": "stream",
     "text": [
      "+----------+----------+--------+-------+---------+\n",
      "| Date Rptd|  DATE OCC|Vict Age|    LAT|      LON|\n",
      "+----------+----------+--------+-------+---------+\n",
      "|2010-02-20|2010-02-20|      48|33.9825|-118.2695|\n",
      "|2010-09-13|2010-09-12|       0|33.9599|-118.3962|\n",
      "|2010-08-09|2010-08-09|       0|34.0224|-118.2524|\n",
      "|2010-01-05|2010-01-05|      47|34.1016|-118.3295|\n",
      "|2010-01-03|2010-01-02|      47|34.0387|-118.2488|\n",
      "|2010-01-05|2010-01-04|      23| 34.048|-118.2577|\n",
      "|2010-01-08|2010-01-07|      46|34.0389|-118.2643|\n",
      "|2010-01-09|2010-01-08|      51|34.0435|-118.2427|\n",
      "|2010-01-09|2010-01-09|      30| 34.045| -118.264|\n",
      "|2010-01-09|2010-01-06|      55|34.0538|-118.2488|\n",
      "|2010-01-14|2010-01-14|      38| 34.064|-118.2375|\n",
      "|2010-01-15|2010-01-14|      40| 34.035|-118.2386|\n",
      "|2010-01-15|2010-01-15|      24|34.0409|-118.2609|\n",
      "|2010-01-16|2010-01-15|      29|34.0502| -118.254|\n",
      "|2010-01-16|2010-01-15|      47|34.0515|-118.2424|\n",
      "|2010-01-17|2010-01-16|      41|34.0389| -118.255|\n",
      "|2010-01-23|2010-01-23|      11|34.0401|-118.2668|\n",
      "|2010-01-23|2010-01-23|      50|34.0428|-118.2461|\n",
      "|2010-01-23|2010-01-23|      18|34.0545|-118.2499|\n",
      "|2010-01-26|2010-01-26|      37|34.0563|-118.2374|\n",
      "+----------+----------+--------+-------+---------+\n",
      "only showing top 20 rows\n",
      "\n"
     ]
    },
    {
     "name": "stderr",
     "output_type": "stream",
     "text": [
      "                                                                                \r"
     ]
    }
   ],
   "source": [
    "from pyspark.sql.types import StructType, StructField, StringType, DateType, IntegerType, DoubleType\n",
    "from pyspark.sql.functions import col, to_date\n",
    "\n",
    "columns_to_select = [\"Date Rptd\", \"DATE OCC\", \"Vict Age\",\"LAT\",\"LON\"]\n",
    "\n",
    "# Read the CSV file into a DataFrame\n",
    "df1 = spark.read.csv('hdfs://okeanos-master:54310/user/project/Crime_Data_from_2010_to_2019.csv', header=True, inferSchema=True).select(columns_to_select)\n",
    "\n",
    "df1 = df1.withColumn(\"Date Rptd\", to_date(col(\"Date Rptd\"), 'MM/dd/yyyy hh:mm:ss a'))\n",
    "df1 = df1.withColumn(\"DATE OCC\", to_date(col(\"DATE OCC\"), 'MM/dd/yyyy hh:mm:ss a'))\n",
    "\n",
    "# Read the CSV file into a DataFrame\n",
    "df2 = spark.read.csv('hdfs://okeanos-master:54310/user/project/Crime_Data_from_2020_to_Present.csv', header=True, inferSchema=True).select(columns_to_select)\n",
    "\n",
    "df2 = df2.withColumn(\"Date Rptd\", to_date(col(\"Date Rptd\"), 'MM/dd/yyyy hh:mm:ss a'))\n",
    "df2 = df2.withColumn(\"DATE OCC\", to_date(col(\"DATE OCC\"), 'MM/dd/yyyy hh:mm:ss a'))\n",
    "\n",
    "df = df1.union(df2)\n",
    "\n",
    "df.show()\n"
   ]
  },
  {
   "cell_type": "code",
   "execution_count": 55,
   "metadata": {},
   "outputs": [
    {
     "name": "stderr",
     "output_type": "stream",
     "text": [
      "[Stage 35:=============================>                            (1 + 1) / 2]\r"
     ]
    },
    {
     "name": "stdout",
     "output_type": "stream",
     "text": [
      "+----------+----------+--------+-------+---------+\n",
      "| Date Rptd|  DATE OCC|Vict Age|    LAT|      LON|\n",
      "+----------+----------+--------+-------+---------+\n",
      "|2020-01-08|2020-01-08|      36|34.0141|-118.2978|\n",
      "|2020-01-02|2020-01-01|      25|34.0459|-118.2545|\n",
      "|2020-04-14|2020-02-13|       0|34.0448|-118.2474|\n",
      "|2020-01-01|2020-01-01|      76|34.1685|-118.4019|\n",
      "|2020-01-01|2020-01-01|      31|34.2198|-118.4468|\n",
      "|2020-01-02|2020-01-01|      25|34.0452|-118.2534|\n",
      "|2020-01-02|2020-01-02|      23|34.0483|-118.2631|\n",
      "|2020-01-04|2020-01-04|       0|34.0448|-118.2474|\n",
      "|2020-01-04|2020-01-04|      23|34.0677|-118.2398|\n",
      "|2020-06-19|2020-05-26|       0|34.2864|-118.5021|\n",
      "|2020-01-04|2020-01-04|      29|34.0359|-118.2648|\n",
      "|2020-01-05|2020-01-05|      35|34.0615|-118.2412|\n",
      "|2020-01-05|2020-01-05|      41|34.0452|-118.2569|\n",
      "|2020-01-07|2020-01-07|       0| 34.048|-118.2577|\n",
      "|2020-01-08|2020-01-08|      24|34.0515|-118.2424|\n",
      "|2021-11-26|2020-11-30|      24|34.3055|-118.4439|\n",
      "|2020-11-29|2020-11-28|      34|34.1186| -118.245|\n",
      "|2020-02-22|2020-02-22|      29|33.7926|-118.3043|\n",
      "|2021-11-22|2020-11-19|      46|34.1857|-118.4574|\n",
      "|2020-01-14|2020-01-14|      66|34.0463| -118.255|\n",
      "+----------+----------+--------+-------+---------+\n",
      "only showing top 20 rows\n",
      "\n"
     ]
    },
    {
     "name": "stderr",
     "output_type": "stream",
     "text": [
      "                                                                                \r"
     ]
    }
   ],
   "source": []
  },
  {
   "cell_type": "code",
   "execution_count": 56,
   "metadata": {},
   "outputs": [],
   "source": []
  }
 ],
 "metadata": {
  "kernelspec": {
   "display_name": "Python 3",
   "language": "python",
   "name": "python3"
  },
  "language_info": {
   "codemirror_mode": {
    "name": "ipython",
    "version": 3
   },
   "file_extension": ".py",
   "mimetype": "text/x-python",
   "name": "python",
   "nbconvert_exporter": "python",
   "pygments_lexer": "ipython3",
   "version": "3.10.12"
  }
 },
 "nbformat": 4,
 "nbformat_minor": 2
}
