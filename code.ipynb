{
 "cells": [
  {
   "cell_type": "code",
   "execution_count": 1,
   "metadata": {},
   "outputs": [
    {
     "name": "stdout",
     "output_type": "stream",
     "text": [
      "Starting HDFS...\n"
     ]
    },
    {
     "name": "stdout",
     "output_type": "stream",
     "text": [
      "Starting namenodes on [okeanos-master]\n",
      "Starting datanodes\n",
      "Starting secondary namenodes [okeanos-master]\n",
      "Starting YARN...\n",
      "Starting resourcemanager\n",
      "Starting nodemanagers\n",
      "Starting Spark...\n",
      "starting org.apache.spark.deploy.history.HistoryServer, logging to /home/user/opt/spark/logs/spark-user-org.apache.spark.deploy.history.HistoryServer-1-okeanos-master.out\n",
      "failed to launch: nice -n 0 /home/user/opt/spark/bin/spark-class org.apache.spark.deploy.history.HistoryServer\n",
      "full log in /home/user/opt/spark/logs/spark-user-org.apache.spark.deploy.history.HistoryServer-1-okeanos-master.out\n",
      "HDFS, YARN, and Spark started successfully.\n"
     ]
    }
   ],
   "source": [
    "!./start_hadoop_spark.sh"
   ]
  },
  {
   "cell_type": "code",
   "execution_count": 1,
   "metadata": {},
   "outputs": [
    {
     "name": "stderr",
     "output_type": "stream",
     "text": [
      "Setting default log level to \"WARN\".\n",
      "To adjust logging level use sc.setLogLevel(newLevel). For SparkR, use setLogLevel(newLevel).\n",
      "23/12/19 11:40:29 WARN NativeCodeLoader: Unable to load native-hadoop library for your platform... using builtin-java classes where applicable\n",
      "23/12/19 11:40:34 WARN Client: Neither spark.yarn.jars nor spark.yarn.archive is set, falling back to uploading libraries under SPARK_HOME.\n"
     ]
    },
    {
     "data": {
      "text/html": [
       "\n",
       "            <div>\n",
       "                <p><b>SparkSession - in-memory</b></p>\n",
       "                \n",
       "        <div>\n",
       "            <p><b>SparkContext</b></p>\n",
       "\n",
       "            <p><a href=\"http://okeanos-master:4040\">Spark UI</a></p>\n",
       "\n",
       "            <dl>\n",
       "              <dt>Version</dt>\n",
       "                <dd><code>v3.5.0</code></dd>\n",
       "              <dt>Master</dt>\n",
       "                <dd><code>yarn</code></dd>\n",
       "              <dt>AppName</dt>\n",
       "                <dd><code>Project</code></dd>\n",
       "            </dl>\n",
       "        </div>\n",
       "        \n",
       "            </div>\n",
       "        "
      ],
      "text/plain": [
       "<pyspark.sql.session.SparkSession at 0x7f13c7d9cdc0>"
      ]
     },
     "execution_count": 1,
     "metadata": {},
     "output_type": "execute_result"
    }
   ],
   "source": [
    "from pyspark.sql import SparkSession\n",
    "\n",
    "spark = SparkSession.builder.appName('Project').getOrCreate()\n",
    "spark\n"
   ]
  },
  {
   "cell_type": "markdown",
   "metadata": {},
   "source": [
    "## Ζητούμενο 2"
   ]
  },
  {
   "cell_type": "code",
   "execution_count": null,
   "metadata": {},
   "outputs": [],
   "source": [
    "from pyspark.sql.functions import col, to_date\n",
    "\n",
    "columns_to_select = [\"Date Rptd\", \"DATE OCC\", \"Vict Age\",\"LAT\",\"LON\"]\n",
    "\n",
    "# Read the CSV file into a DataFrame\n",
    "df1 = spark.read.csv('hdfs://okeanos-master:54310/user/project/Crime_Data_from_2010_to_2019.csv', header=True, inferSchema=True).select(columns_to_select)\n",
    "\n",
    "df1 = df1.withColumn(\"Date Rptd\", to_date(col(\"Date Rptd\"), 'MM/dd/yyyy hh:mm:ss a'))\n",
    "df1 = df1.withColumn(\"DATE OCC\", to_date(col(\"DATE OCC\"), 'MM/dd/yyyy hh:mm:ss a'))\n",
    "\n",
    "# Read the CSV file into a DataFrame\n",
    "df2 = spark.read.csv('hdfs://okeanos-master:54310/user/project/Crime_Data_from_2020_to_Present.csv', header=True, inferSchema=True).select(columns_to_select)\n",
    "\n",
    "df2 = df2.withColumn(\"Date Rptd\", to_date(col(\"Date Rptd\"), 'MM/dd/yyyy hh:mm:ss a'))\n",
    "df2 = df2.withColumn(\"DATE OCC\", to_date(col(\"DATE OCC\"), 'MM/dd/yyyy hh:mm:ss a'))\n",
    "\n",
    "df = df1.union(df2)\n",
    "\n",
    "df.show()"
   ]
  },
  {
   "cell_type": "code",
   "execution_count": 9,
   "metadata": {},
   "outputs": [
    {
     "name": "stdout",
     "output_type": "stream",
     "text": [
      "root\n",
      " |-- Date Rptd: date (nullable = true)\n",
      " |-- DATE OCC: date (nullable = true)\n",
      " |-- Vict Age: integer (nullable = true)\n",
      " |-- LAT: double (nullable = true)\n",
      " |-- LON: double (nullable = true)\n",
      "\n",
      "Number of rows in the DataFrame:\n"
     ]
    },
    {
     "name": "stderr",
     "output_type": "stream",
     "text": [
      "                                                                                \r"
     ]
    },
    {
     "data": {
      "text/plain": [
       "2988445"
      ]
     },
     "execution_count": 9,
     "metadata": {},
     "output_type": "execute_result"
    }
   ],
   "source": [
    "df.printSchema()\n",
    "\n",
    "print(\"Number of rows in the DataFrame:\")\n",
    "df.count()"
   ]
  },
  {
   "cell_type": "code",
   "execution_count": 5,
   "metadata": {},
   "outputs": [
    {
     "name": "stdout",
     "output_type": "stream",
     "text": [
      "+----------+----------+--------+-------+---------+\n",
      "| Date Rptd|  DATE OCC|Vict Age|    LAT|      LON|\n",
      "+----------+----------+--------+-------+---------+\n",
      "|2010-02-20|2010-02-20|      48|33.9825|-118.2695|\n",
      "|2010-09-13|2010-09-12|       0|33.9599|-118.3962|\n",
      "|2010-08-09|2010-08-09|       0|34.0224|-118.2524|\n",
      "|2010-01-05|2010-01-05|      47|34.1016|-118.3295|\n",
      "|2010-01-03|2010-01-02|      47|34.0387|-118.2488|\n",
      "|2010-01-05|2010-01-04|      23| 34.048|-118.2577|\n",
      "|2010-01-08|2010-01-07|      46|34.0389|-118.2643|\n",
      "|2010-01-09|2010-01-08|      51|34.0435|-118.2427|\n",
      "|2010-01-09|2010-01-09|      30| 34.045| -118.264|\n",
      "|2010-01-09|2010-01-06|      55|34.0538|-118.2488|\n",
      "|2010-01-14|2010-01-14|      38| 34.064|-118.2375|\n",
      "|2010-01-15|2010-01-14|      40| 34.035|-118.2386|\n",
      "|2010-01-15|2010-01-15|      24|34.0409|-118.2609|\n",
      "|2010-01-16|2010-01-15|      29|34.0502| -118.254|\n",
      "|2010-01-16|2010-01-15|      47|34.0515|-118.2424|\n",
      "|2010-01-17|2010-01-16|      41|34.0389| -118.255|\n",
      "|2010-01-23|2010-01-23|      11|34.0401|-118.2668|\n",
      "|2010-01-23|2010-01-23|      50|34.0428|-118.2461|\n",
      "|2010-01-23|2010-01-23|      18|34.0545|-118.2499|\n",
      "|2010-01-26|2010-01-26|      37|34.0563|-118.2374|\n",
      "+----------+----------+--------+-------+---------+\n",
      "only showing top 20 rows\n",
      "\n"
     ]
    }
   ],
   "source": [
    "df.show()"
   ]
  },
  {
   "cell_type": "markdown",
   "metadata": {},
   "source": [
    "## Ζητούμενο 3"
   ]
  },
  {
   "cell_type": "code",
   "execution_count": 16,
   "metadata": {},
   "outputs": [
    {
     "name": "stdout",
     "output_type": "stream",
     "text": [
      "+----+-----+\n",
      "|Year|Month|\n",
      "+----+-----+\n",
      "|2010|    2|\n",
      "|2010|    9|\n",
      "|2010|    8|\n",
      "|2010|    1|\n",
      "|2010|    1|\n",
      "|2010|    1|\n",
      "|2010|    1|\n",
      "|2010|    1|\n",
      "|2010|    1|\n",
      "|2010|    1|\n",
      "|2010|    1|\n",
      "|2010|    1|\n",
      "|2010|    1|\n",
      "|2010|    1|\n",
      "|2010|    1|\n",
      "|2010|    1|\n",
      "|2010|    1|\n",
      "|2010|    1|\n",
      "|2010|    1|\n",
      "|2010|    1|\n",
      "+----+-----+\n",
      "only showing top 20 rows\n",
      "\n"
     ]
    }
   ],
   "source": [
    "from pyspark.sql.functions import year, month\n",
    "\n",
    "date_rptd = df.select('Date Rptd')\n",
    "date_rptd = date_rptd.withColumn(\"Year\", year(\"Date Rptd\")).withColumn(\"Month\", month(\"Date Rptd\")).drop(\"Date Rptd\")\n",
    "date_rptd.show()"
   ]
  }
 ],
 "metadata": {
  "kernelspec": {
   "display_name": "Python 3",
   "language": "python",
   "name": "python3"
  },
  "language_info": {
   "codemirror_mode": {
    "name": "ipython",
    "version": 3
   },
   "file_extension": ".py",
   "mimetype": "text/x-python",
   "name": "python",
   "nbconvert_exporter": "python",
   "pygments_lexer": "ipython3",
   "version": "3.10.12"
  }
 },
 "nbformat": 4,
 "nbformat_minor": 2
}
