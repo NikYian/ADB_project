{
 "cells": [
  {
   "cell_type": "code",
   "execution_count": 1,
   "metadata": {},
   "outputs": [
    {
     "name": "stdout",
     "output_type": "stream",
     "text": [
      "Starting HDFS...\n"
     ]
    },
    {
     "name": "stdout",
     "output_type": "stream",
     "text": [
      "Starting namenodes on [okeanos-master]\n",
      "Starting datanodes\n",
      "Starting secondary namenodes [okeanos-master]\n",
      "Starting YARN...\n",
      "Starting resourcemanager\n",
      "Starting nodemanagers\n",
      "Starting Spark...\n",
      "starting org.apache.spark.deploy.history.HistoryServer, logging to /home/user/opt/spark/logs/spark-user-org.apache.spark.deploy.history.HistoryServer-1-okeanos-master.out\n"
     ]
    }
   ],
   "source": [
    "!./start_hadoop_spark.sh"
   ]
  },
  {
   "cell_type": "code",
   "execution_count": 5,
   "metadata": {},
   "outputs": [
    {
     "name": "stderr",
     "output_type": "stream",
     "text": [
      "23/12/23 19:20:45 WARN Client: Neither spark.yarn.jars nor spark.yarn.archive is set, falling back to uploading libraries under SPARK_HOME.\n"
     ]
    },
    {
     "data": {
      "text/html": [
       "\n",
       "            <div>\n",
       "                <p><b>SparkSession - in-memory</b></p>\n",
       "                \n",
       "        <div>\n",
       "            <p><b>SparkContext</b></p>\n",
       "\n",
       "            <p><a href=\"http://okeanos-master:4040\">Spark UI</a></p>\n",
       "\n",
       "            <dl>\n",
       "              <dt>Version</dt>\n",
       "                <dd><code>v3.5.0</code></dd>\n",
       "              <dt>Master</dt>\n",
       "                <dd><code>yarn</code></dd>\n",
       "              <dt>AppName</dt>\n",
       "                <dd><code>Project</code></dd>\n",
       "            </dl>\n",
       "        </div>\n",
       "        \n",
       "            </div>\n",
       "        "
      ],
      "text/plain": [
       "<pyspark.sql.session.SparkSession at 0x7f1fc40c9d80>"
      ]
     },
     "execution_count": 5,
     "metadata": {},
     "output_type": "execute_result"
    }
   ],
   "source": [
    "from pyspark.sql import SparkSession\n",
    "\n",
    "spark = SparkSession.builder \\\n",
    "        .appName('Project') \\\n",
    "        .config(\"spark.master\", \"yarn\") \\\n",
    "        .config(\"spark.executor.instances\", \"4\") \\\n",
    "        .config(\"spark.executor.cores\", \"1\") \\\n",
    "        .config(\"spark.executor.memory\", \"1g\") \\\n",
    "        .getOrCreate()\n",
    "spark\n"
   ]
  },
  {
   "cell_type": "markdown",
   "metadata": {},
   "source": [
    "## Ζητούμενο 2"
   ]
  },
  {
   "cell_type": "code",
   "execution_count": 6,
   "metadata": {},
   "outputs": [
    {
     "name": "stderr",
     "output_type": "stream",
     "text": [
      "                                                                                \r"
     ]
    },
    {
     "name": "stdout",
     "output_type": "stream",
     "text": [
      "+---------+----------+----------+--------+-----+---------+-----------+--------+------+--------------------+--------------+--------+--------+------------+---------+--------------------+--------------+--------------------+------+------------+--------+--------+--------+--------+--------------------+--------------------+-------+---------+\n",
      "|    DR_NO| Date Rptd|  DATE OCC|TIME OCC|AREA |AREA NAME|Rpt Dist No|Part 1-2|Crm Cd|         Crm Cd Desc|       Mocodes|Vict Age|Vict Sex|Vict Descent|Premis Cd|         Premis Desc|Weapon Used Cd|         Weapon Desc|Status| Status Desc|Crm Cd 1|Crm Cd 2|Crm Cd 3|Crm Cd 4|            LOCATION|        Cross Street|    LAT|      LON|\n",
      "+---------+----------+----------+--------+-----+---------+-----------+--------+------+--------------------+--------------+--------+--------+------------+---------+--------------------+--------------+--------------------+------+------------+--------+--------+--------+--------+--------------------+--------------------+-------+---------+\n",
      "|  1307355|2010-02-20|2010-02-20|    1350|   13|   Newton|       1385|       2|   900|VIOLATION OF COUR...|0913 1814 2000|      48|       M|           H|      501|SINGLE FAMILY DWE...|          NULL|                NULL|    AA|Adult Arrest|     900|    NULL|    NULL|    NULL|300 E  GAGE      ...|                NULL|33.9825|-118.2695|\n",
      "| 11401303|2010-09-13|2010-09-12|      45|   14|  Pacific|       1485|       2|   740|VANDALISM - FELON...|          0329|       0|       M|           W|      101|              STREET|          NULL|                NULL|    IC| Invest Cont|     740|    NULL|    NULL|    NULL|SEPULVEDA        ...|MANCHESTER       ...|33.9599|-118.3962|\n",
      "| 70309629|2010-08-09|2010-08-09|    1515|   13|   Newton|       1324|       2|   946|OTHER MISCELLANEO...|          0344|       0|       M|           H|      103|               ALLEY|          NULL|                NULL|    IC| Invest Cont|     946|    NULL|    NULL|    NULL|1300 E  21ST     ...|                NULL|34.0224|-118.2524|\n",
      "| 90631215|2010-01-05|2010-01-05|     150|    6|Hollywood|        646|       2|   900|VIOLATION OF COUR...|1100 0400 1402|      47|       F|           W|      101|              STREET|           102|            HAND GUN|    IC| Invest Cont|     900|     998|    NULL|    NULL|CAHUENGA         ...|HOLLYWOOD        ...|34.1016|-118.3295|\n",
      "|100100501|2010-01-03|2010-01-02|    2100|    1|  Central|        176|       1|   122|     RAPE, ATTEMPTED|          0400|      47|       F|           H|      103|               ALLEY|           400|STRONG-ARM (HANDS...|    IC| Invest Cont|     122|    NULL|    NULL|    NULL|8TH              ...|SAN PEDRO        ...|34.0387|-118.2488|\n",
      "|100100506|2010-01-05|2010-01-04|    1650|    1|  Central|        162|       1|   442|SHOPLIFTING - PET...|     0344 1402|      23|       M|           B|      404|    DEPARTMENT STORE|          NULL|                NULL|    AA|Adult Arrest|     442|    NULL|    NULL|    NULL|700 W  7TH       ...|                NULL| 34.048|-118.2577|\n",
      "|100100508|2010-01-08|2010-01-07|    2005|    1|  Central|        182|       1|   330|BURGLARY FROM VEH...|          0344|      46|       M|           H|      101|              STREET|          NULL|                NULL|    IC| Invest Cont|     330|    NULL|    NULL|    NULL|PICO             ...|GRAND            ...|34.0389|-118.2643|\n",
      "|100100509|2010-01-09|2010-01-08|    2100|    1|  Central|        157|       1|   230|ASSAULT WITH DEAD...|          0416|      51|       M|           B|      710|       OTHER PREMISE|           500|UNKNOWN WEAPON/OT...|    AA|Adult Arrest|     230|    NULL|    NULL|    NULL|500    CROCKER   ...|                NULL|34.0435|-118.2427|\n",
      "|100100510|2010-01-09|2010-01-09|     230|    1|  Central|        171|       1|   230|ASSAULT WITH DEAD...|     0400 0416|      30|       M|           H|      108|         PARKING LOT|           400|STRONG-ARM (HANDS...|    IC| Invest Cont|     230|    NULL|    NULL|    NULL|800 W  OLYMPIC   ...|                NULL| 34.045| -118.264|\n",
      "|100100511|2010-01-09|2010-01-06|    2100|    1|  Central|        132|       1|   341|THEFT-GRAND ($950...|     0344 1402|      55|       M|           W|      710|       OTHER PREMISE|          NULL|                NULL|    IC| Invest Cont|     341|     998|    NULL|    NULL|200 S  OLIVE     ...|                NULL|34.0538|-118.2488|\n",
      "|100100521|2010-01-14|2010-01-14|    1445|    1|  Central|        118|       2|   624|BATTERY - SIMPLE ...|0400 0429 2000|      38|       F|           B|      101|              STREET|           400|STRONG-ARM (HANDS...|    IC| Invest Cont|     624|    NULL|    NULL|    NULL|     900 N  BROADWAY|                NULL| 34.064|-118.2375|\n",
      "|100100522|2010-01-15|2010-01-14|    2000|    1|  Central|        158|       1|   210|             ROBBERY|          0344|      40|       M|           H|      101|              STREET|           400|STRONG-ARM (HANDS...|    AO| Adult Other|     210|    NULL|    NULL|    NULL|ALAMEDA          ...|7TH              ...| 34.035|-118.2386|\n",
      "|100100523|2010-01-15|2010-01-15|     245|    1|  Central|        182|       2|   740|VANDALISM - FELON...|          0329|      24|       F|           W|      102|            SIDEWALK|          NULL|                NULL|    AA|Adult Arrest|     740|    NULL|    NULL|    NULL|1100 S  OLIVE    ...|                NULL|34.0409|-118.2609|\n",
      "|100100529|2010-01-16|2010-01-15|    1745|    1|  Central|        152|       2|   755|          BOMB SCARE|          0404|      29|       F|           B|      738|             LIBRARY|           500|UNKNOWN WEAPON/OT...|    IC| Invest Cont|     755|    NULL|    NULL|    NULL|600 W  5TH       ...|                NULL|34.0502| -118.254|\n",
      "|100100531|2010-01-16|2010-01-15|    2030|    1|  Central|        127|       1|   210|             ROBBERY|0344 0416 1218|      47|       M|           A|      102|            SIDEWALK|           400|STRONG-ARM (HANDS...|    IC| Invest Cont|     210|    NULL|    NULL|    NULL|                 1ST|         LOS ANGELES|34.0515|-118.2424|\n",
      "|100100535|2010-01-17|2010-01-16|    1735|    1|  Central|        185|       2|   946|OTHER MISCELLANEO...|          NULL|      41|       M|           W|      103|               ALLEY|          NULL|                NULL|    IC| Invest Cont|     946|     999|    NULL|    NULL|300 E  OLYMPIC   ...|                NULL|34.0389| -118.255|\n",
      "|100100552|2010-01-23|2010-01-23|    1225|    1|  Central|        192|       2|   237|CHILD NEGLECT (SE...|          1251|      11|       M|           H|      502|MULTI-UNIT DWELLI...|          NULL|                NULL|    IC| Invest Cont|     237|    NULL|    NULL|    NULL|1300 S  FLOWER   ...|                NULL|34.0401|-118.2668|\n",
      "|100100553|2010-01-23|2010-01-23|    1100|    1|  Central|        166|       1|   210|             ROBBERY|     0344 0416|      50|       M|           W|      101|              STREET|           400|STRONG-ARM (HANDS...|    IC| Invest Cont|     210|    NULL|    NULL|    NULL|600    SAN JULIAN...|                NULL|34.0428|-118.2461|\n",
      "|100100555|2010-01-23|2010-01-23|    2000|    1|  Central|        132|       1|   236|INTIMATE PARTNER ...|          2000|      18|       F|           W|      502|MULTI-UNIT DWELLI...|           400|STRONG-ARM (HANDS...|    IC| Invest Cont|     236|    NULL|    NULL|    NULL|200 S  GRAND     ...|                NULL|34.0545|-118.2499|\n",
      "|100100561|2010-01-26|2010-01-26|    1820|    1|  Central|        119|       1|   210|             ROBBERY|     0346 0400|      37|       M|           H|      102|            SIDEWALK|           400|STRONG-ARM (HANDS...|    AA|Adult Arrest|     210|    NULL|    NULL|    NULL|800 N  ALAMEDA   ...|                NULL|34.0563|-118.2374|\n",
      "+---------+----------+----------+--------+-----+---------+-----------+--------+------+--------------------+--------------+--------+--------+------------+---------+--------------------+--------------+--------------------+------+------------+--------+--------+--------+--------+--------------------+--------------------+-------+---------+\n",
      "only showing top 20 rows\n",
      "\n"
     ]
    }
   ],
   "source": [
    "from pyspark.sql.functions import col, to_date, to_timestamp\n",
    "\n",
    "# columns_to_select = [\"Date Rptd\", \"DATE OCC\", \"Vict Age\",\"LAT\",\"LON\"]\n",
    "\n",
    "# Read the CSV file into a DataFrame\n",
    "df1 = spark.read.csv('hdfs://okeanos-master:54310/user/project/Crime_Data_from_2010_to_2019.csv', header=True, inferSchema=True)\n",
    "\n",
    "df1 = df1.withColumn(\"Date Rptd\", to_date(col(\"Date Rptd\"), 'MM/dd/yyyy hh:mm:ss a'))\n",
    "df1 = df1.withColumn(\"DATE OCC\", to_date(col(\"DATE OCC\"), 'MM/dd/yyyy hh:mm:ss a'))\n",
    "\n",
    "# Read the CSV file into a DataFrame\n",
    "df2 = spark.read.csv('hdfs://okeanos-master:54310/user/project/Crime_Data_from_2020_to_Present.csv', header=True, inferSchema=True)\n",
    "\n",
    "df2 = df2.withColumn(\"Date Rptd\", to_date(col(\"Date Rptd\"), 'MM/dd/yyyy hh:mm:ss a'))\n",
    "df2 = df2.withColumn(\"DATE OCC\", to_date(col(\"DATE OCC\"), 'MM/dd/yyyy hh:mm:ss a'))\n",
    "\n",
    "df = df1.union(df2)\n",
    "\n",
    "df.show()"
   ]
  },
  {
   "cell_type": "code",
   "execution_count": 7,
   "metadata": {},
   "outputs": [
    {
     "name": "stdout",
     "output_type": "stream",
     "text": [
      "root\n",
      " |-- DR_NO: integer (nullable = true)\n",
      " |-- Date Rptd: date (nullable = true)\n",
      " |-- DATE OCC: date (nullable = true)\n",
      " |-- TIME OCC: integer (nullable = true)\n",
      " |-- AREA : integer (nullable = true)\n",
      " |-- AREA NAME: string (nullable = true)\n",
      " |-- Rpt Dist No: integer (nullable = true)\n",
      " |-- Part 1-2: integer (nullable = true)\n",
      " |-- Crm Cd: integer (nullable = true)\n",
      " |-- Crm Cd Desc: string (nullable = true)\n",
      " |-- Mocodes: string (nullable = true)\n",
      " |-- Vict Age: integer (nullable = true)\n",
      " |-- Vict Sex: string (nullable = true)\n",
      " |-- Vict Descent: string (nullable = true)\n",
      " |-- Premis Cd: integer (nullable = true)\n",
      " |-- Premis Desc: string (nullable = true)\n",
      " |-- Weapon Used Cd: integer (nullable = true)\n",
      " |-- Weapon Desc: string (nullable = true)\n",
      " |-- Status: string (nullable = true)\n",
      " |-- Status Desc: string (nullable = true)\n",
      " |-- Crm Cd 1: integer (nullable = true)\n",
      " |-- Crm Cd 2: integer (nullable = true)\n",
      " |-- Crm Cd 3: integer (nullable = true)\n",
      " |-- Crm Cd 4: integer (nullable = true)\n",
      " |-- LOCATION: string (nullable = true)\n",
      " |-- Cross Street: string (nullable = true)\n",
      " |-- LAT: double (nullable = true)\n",
      " |-- LON: double (nullable = true)\n",
      "\n",
      "Number of rows in the DataFrame:\n"
     ]
    },
    {
     "name": "stderr",
     "output_type": "stream",
     "text": [
      "                                                                                \r"
     ]
    },
    {
     "data": {
      "text/plain": [
       "2988445"
      ]
     },
     "execution_count": 7,
     "metadata": {},
     "output_type": "execute_result"
    }
   ],
   "source": [
    "df.printSchema()\n",
    "\n",
    "print(\"Number of rows in the DataFrame:\")\n",
    "df.count()"
   ]
  },
  {
   "cell_type": "code",
   "execution_count": 8,
   "metadata": {},
   "outputs": [
    {
     "name": "stdout",
     "output_type": "stream",
     "text": [
      "+---------+----------+----------+--------+-----+---------+-----------+--------+------+--------------------+--------------+--------+--------+------------+---------+--------------------+--------------+--------------------+------+------------+--------+--------+--------+--------+--------------------+--------------------+-------+---------+\n",
      "|    DR_NO| Date Rptd|  DATE OCC|TIME OCC|AREA |AREA NAME|Rpt Dist No|Part 1-2|Crm Cd|         Crm Cd Desc|       Mocodes|Vict Age|Vict Sex|Vict Descent|Premis Cd|         Premis Desc|Weapon Used Cd|         Weapon Desc|Status| Status Desc|Crm Cd 1|Crm Cd 2|Crm Cd 3|Crm Cd 4|            LOCATION|        Cross Street|    LAT|      LON|\n",
      "+---------+----------+----------+--------+-----+---------+-----------+--------+------+--------------------+--------------+--------+--------+------------+---------+--------------------+--------------+--------------------+------+------------+--------+--------+--------+--------+--------------------+--------------------+-------+---------+\n",
      "|  1307355|2010-02-20|2010-02-20|    1350|   13|   Newton|       1385|       2|   900|VIOLATION OF COUR...|0913 1814 2000|      48|       M|           H|      501|SINGLE FAMILY DWE...|          NULL|                NULL|    AA|Adult Arrest|     900|    NULL|    NULL|    NULL|300 E  GAGE      ...|                NULL|33.9825|-118.2695|\n",
      "| 11401303|2010-09-13|2010-09-12|      45|   14|  Pacific|       1485|       2|   740|VANDALISM - FELON...|          0329|       0|       M|           W|      101|              STREET|          NULL|                NULL|    IC| Invest Cont|     740|    NULL|    NULL|    NULL|SEPULVEDA        ...|MANCHESTER       ...|33.9599|-118.3962|\n",
      "| 70309629|2010-08-09|2010-08-09|    1515|   13|   Newton|       1324|       2|   946|OTHER MISCELLANEO...|          0344|       0|       M|           H|      103|               ALLEY|          NULL|                NULL|    IC| Invest Cont|     946|    NULL|    NULL|    NULL|1300 E  21ST     ...|                NULL|34.0224|-118.2524|\n",
      "| 90631215|2010-01-05|2010-01-05|     150|    6|Hollywood|        646|       2|   900|VIOLATION OF COUR...|1100 0400 1402|      47|       F|           W|      101|              STREET|           102|            HAND GUN|    IC| Invest Cont|     900|     998|    NULL|    NULL|CAHUENGA         ...|HOLLYWOOD        ...|34.1016|-118.3295|\n",
      "|100100501|2010-01-03|2010-01-02|    2100|    1|  Central|        176|       1|   122|     RAPE, ATTEMPTED|          0400|      47|       F|           H|      103|               ALLEY|           400|STRONG-ARM (HANDS...|    IC| Invest Cont|     122|    NULL|    NULL|    NULL|8TH              ...|SAN PEDRO        ...|34.0387|-118.2488|\n",
      "|100100506|2010-01-05|2010-01-04|    1650|    1|  Central|        162|       1|   442|SHOPLIFTING - PET...|     0344 1402|      23|       M|           B|      404|    DEPARTMENT STORE|          NULL|                NULL|    AA|Adult Arrest|     442|    NULL|    NULL|    NULL|700 W  7TH       ...|                NULL| 34.048|-118.2577|\n",
      "|100100508|2010-01-08|2010-01-07|    2005|    1|  Central|        182|       1|   330|BURGLARY FROM VEH...|          0344|      46|       M|           H|      101|              STREET|          NULL|                NULL|    IC| Invest Cont|     330|    NULL|    NULL|    NULL|PICO             ...|GRAND            ...|34.0389|-118.2643|\n",
      "|100100509|2010-01-09|2010-01-08|    2100|    1|  Central|        157|       1|   230|ASSAULT WITH DEAD...|          0416|      51|       M|           B|      710|       OTHER PREMISE|           500|UNKNOWN WEAPON/OT...|    AA|Adult Arrest|     230|    NULL|    NULL|    NULL|500    CROCKER   ...|                NULL|34.0435|-118.2427|\n",
      "|100100510|2010-01-09|2010-01-09|     230|    1|  Central|        171|       1|   230|ASSAULT WITH DEAD...|     0400 0416|      30|       M|           H|      108|         PARKING LOT|           400|STRONG-ARM (HANDS...|    IC| Invest Cont|     230|    NULL|    NULL|    NULL|800 W  OLYMPIC   ...|                NULL| 34.045| -118.264|\n",
      "|100100511|2010-01-09|2010-01-06|    2100|    1|  Central|        132|       1|   341|THEFT-GRAND ($950...|     0344 1402|      55|       M|           W|      710|       OTHER PREMISE|          NULL|                NULL|    IC| Invest Cont|     341|     998|    NULL|    NULL|200 S  OLIVE     ...|                NULL|34.0538|-118.2488|\n",
      "|100100521|2010-01-14|2010-01-14|    1445|    1|  Central|        118|       2|   624|BATTERY - SIMPLE ...|0400 0429 2000|      38|       F|           B|      101|              STREET|           400|STRONG-ARM (HANDS...|    IC| Invest Cont|     624|    NULL|    NULL|    NULL|     900 N  BROADWAY|                NULL| 34.064|-118.2375|\n",
      "|100100522|2010-01-15|2010-01-14|    2000|    1|  Central|        158|       1|   210|             ROBBERY|          0344|      40|       M|           H|      101|              STREET|           400|STRONG-ARM (HANDS...|    AO| Adult Other|     210|    NULL|    NULL|    NULL|ALAMEDA          ...|7TH              ...| 34.035|-118.2386|\n",
      "|100100523|2010-01-15|2010-01-15|     245|    1|  Central|        182|       2|   740|VANDALISM - FELON...|          0329|      24|       F|           W|      102|            SIDEWALK|          NULL|                NULL|    AA|Adult Arrest|     740|    NULL|    NULL|    NULL|1100 S  OLIVE    ...|                NULL|34.0409|-118.2609|\n",
      "|100100529|2010-01-16|2010-01-15|    1745|    1|  Central|        152|       2|   755|          BOMB SCARE|          0404|      29|       F|           B|      738|             LIBRARY|           500|UNKNOWN WEAPON/OT...|    IC| Invest Cont|     755|    NULL|    NULL|    NULL|600 W  5TH       ...|                NULL|34.0502| -118.254|\n",
      "|100100531|2010-01-16|2010-01-15|    2030|    1|  Central|        127|       1|   210|             ROBBERY|0344 0416 1218|      47|       M|           A|      102|            SIDEWALK|           400|STRONG-ARM (HANDS...|    IC| Invest Cont|     210|    NULL|    NULL|    NULL|                 1ST|         LOS ANGELES|34.0515|-118.2424|\n",
      "|100100535|2010-01-17|2010-01-16|    1735|    1|  Central|        185|       2|   946|OTHER MISCELLANEO...|          NULL|      41|       M|           W|      103|               ALLEY|          NULL|                NULL|    IC| Invest Cont|     946|     999|    NULL|    NULL|300 E  OLYMPIC   ...|                NULL|34.0389| -118.255|\n",
      "|100100552|2010-01-23|2010-01-23|    1225|    1|  Central|        192|       2|   237|CHILD NEGLECT (SE...|          1251|      11|       M|           H|      502|MULTI-UNIT DWELLI...|          NULL|                NULL|    IC| Invest Cont|     237|    NULL|    NULL|    NULL|1300 S  FLOWER   ...|                NULL|34.0401|-118.2668|\n",
      "|100100553|2010-01-23|2010-01-23|    1100|    1|  Central|        166|       1|   210|             ROBBERY|     0344 0416|      50|       M|           W|      101|              STREET|           400|STRONG-ARM (HANDS...|    IC| Invest Cont|     210|    NULL|    NULL|    NULL|600    SAN JULIAN...|                NULL|34.0428|-118.2461|\n",
      "|100100555|2010-01-23|2010-01-23|    2000|    1|  Central|        132|       1|   236|INTIMATE PARTNER ...|          2000|      18|       F|           W|      502|MULTI-UNIT DWELLI...|           400|STRONG-ARM (HANDS...|    IC| Invest Cont|     236|    NULL|    NULL|    NULL|200 S  GRAND     ...|                NULL|34.0545|-118.2499|\n",
      "|100100561|2010-01-26|2010-01-26|    1820|    1|  Central|        119|       1|   210|             ROBBERY|     0346 0400|      37|       M|           H|      102|            SIDEWALK|           400|STRONG-ARM (HANDS...|    AA|Adult Arrest|     210|    NULL|    NULL|    NULL|800 N  ALAMEDA   ...|                NULL|34.0563|-118.2374|\n",
      "+---------+----------+----------+--------+-----+---------+-----------+--------+------+--------------------+--------------+--------+--------+------------+---------+--------------------+--------------+--------------------+------+------------+--------+--------+--------+--------+--------------------+--------------------+-------+---------+\n",
      "only showing top 20 rows\n",
      "\n"
     ]
    }
   ],
   "source": [
    "df.show()"
   ]
  },
  {
   "cell_type": "markdown",
   "metadata": {},
   "source": [
    "## Ζητούμενο 3"
   ]
  },
  {
   "cell_type": "code",
   "execution_count": 27,
   "metadata": {},
   "outputs": [
    {
     "name": "stderr",
     "output_type": "stream",
     "text": [
      "[Stage 84:================================>                         (5 + 4) / 9]\r"
     ]
    },
    {
     "name": "stdout",
     "output_type": "stream",
     "text": [
      "+----+-----+-----------+----------+\n",
      "|Year|Month|crime_total|row_number|\n",
      "+----+-----+-----------+----------+\n",
      "|2010|3    |17595      |1         |\n",
      "|2010|7    |17520      |2         |\n",
      "|2010|5    |17338      |3         |\n",
      "|2011|8    |17139      |1         |\n",
      "|2011|5    |17050      |2         |\n",
      "|2011|3    |16951      |3         |\n",
      "|2012|8    |17696      |1         |\n",
      "|2012|10   |17477      |2         |\n",
      "|2012|5    |17391      |3         |\n",
      "|2013|8    |17329      |1         |\n",
      "|2013|7    |16714      |2         |\n",
      "|2013|5    |16671      |3         |\n",
      "|2014|10   |12789      |1         |\n",
      "|2014|7    |12696      |2         |\n",
      "|2014|9    |12498      |3         |\n",
      "|2015|8    |18951      |1         |\n",
      "|2015|10   |18916      |2         |\n",
      "|2015|7    |18528      |3         |\n",
      "|2016|8    |19779      |1         |\n",
      "|2016|10   |19615      |2         |\n",
      "+----+-----+-----------+----------+\n",
      "only showing top 20 rows\n",
      "\n"
     ]
    },
    {
     "name": "stderr",
     "output_type": "stream",
     "text": [
      "                                                                                \r"
     ]
    }
   ],
   "source": [
    "from pyspark.sql.functions import year, month, count, row_number\n",
    "from pyspark.sql import Window\n",
    "\n",
    "date_rptd = df.select('Date Rptd')\n",
    "date_rptd = date_rptd.withColumn(\"Year\", year(\"Date Rptd\")).withColumn(\"Month\", month(\"Date Rptd\")).drop(\"Date Rptd\")\n",
    "\n",
    "\n",
    "crime_total = date_rptd.groupBy(\"Year\", \"Month\").agg(count(\"*\").alias(\"crime_total\"))\n",
    "\n",
    "# Define a window specification to partition by the \"Year\" column and order by the \"crime_total\" column\n",
    "window_spec = Window().partitionBy(\"Year\").orderBy(col(\"crime_total\").desc())\n",
    "\n",
    "# Use the row_number function to assign row numbers within each group\n",
    "df_sorted = crime_total.withColumn(\"row_number\", row_number().over(window_spec))\n",
    "\n",
    "# Filter to keep only the top three within each group\n",
    "df_top_three = df_sorted.filter(col(\"row_number\") <= 3)\n",
    "\n",
    "df_top_three.show(truncate=False)\n",
    "\n",
    "# Save the DataFrame to a CSV file\n",
    "df_top_three.write.csv(\"results/q1Dt.csv\", header=True,  mode=\"overwrite\")\n",
    "\n",
    "import subprocess\n",
    "\n",
    "hdfs_path = \"hdfs://okeanos-master:54310/user/user/results/q1Dt.csv\"\n",
    "local_path = \"/home/user/Project/results/\"\n",
    "\n",
    "subprocess.run([\"hadoop\", \"fs\", \"-copyToLocal\", hdfs_path, local_path])"
   ]
  },
  {
   "cell_type": "code",
   "execution_count": 30,
   "metadata": {},
   "outputs": [],
   "source": [
    "spark.stop()"
   ]
  }
 ],
 "metadata": {
  "kernelspec": {
   "display_name": "Python 3",
   "language": "python",
   "name": "python3"
  },
  "language_info": {
   "codemirror_mode": {
    "name": "ipython",
    "version": 3
   },
   "file_extension": ".py",
   "mimetype": "text/x-python",
   "name": "python",
   "nbconvert_exporter": "python",
   "pygments_lexer": "ipython3",
   "version": "3.10.12"
  }
 },
 "nbformat": 4,
 "nbformat_minor": 2
}
